{
 "metadata": {
  "language_info": {
   "codemirror_mode": {
    "name": "ipython",
    "version": 3
   },
   "file_extension": ".py",
   "mimetype": "text/x-python",
   "name": "python",
   "nbconvert_exporter": "python",
   "pygments_lexer": "ipython3",
   "version": "3.9.1-final"
  },
  "orig_nbformat": 2,
  "kernelspec": {
   "name": "python3",
   "display_name": "Python 3.9.1 64-bit",
   "metadata": {
    "interpreter": {
     "hash": "767d51c1340bd893661ea55ea3124f6de3c7a262a8b4abca0554b478b1e2ff90"
    }
   }
  }
 },
 "nbformat": 4,
 "nbformat_minor": 2,
 "cells": [
  {
   "cell_type": "code",
   "execution_count": 2,
   "metadata": {},
   "outputs": [],
   "source": [
    "import re\n",
    "from bs4 import BeautifulSoup as bs\n",
    "import pandas as pd"
   ]
  },
  {
   "cell_type": "code",
   "execution_count": 3,
   "metadata": {},
   "outputs": [],
   "source": [
    "basepath = \"/home/sujeet/Desktop/Major Project/Estimating-Levels-of-Depression/2019 data/\"\n",
    "for entry in os.listdir(basepath):\n",
    "    content = []\n",
    "    with open(basepath + entry,'r') as file:\n",
    "        content = file.readlines()\n",
    "        # # Combine the lines in the list into a string\\n\",\n",
    "        content = \"\".join(content)\n",
    "        bs_content = bs(content,\"html\")\n",
    "    ncontent = []\n",
    "    for i in bs_content.find_all(\"text\"):\n",
    "        ncontent.append(str(i))\n",
    "    ss = lambda ss : ss[6:-7]\n",
    "    user = list(map(ss,ncontent[:]))\n",
    "    df = pd.DataFrame()\n",
    "    df['post'] = pd.Series(user)\n",
    "    filename = entry[:-3] + 'csv'\n",
    "    save_dir = \"/home/sujeet/Desktop/Major Project/Estimating-Levels-of-Depression/csv_data_2019/\" + filename\n",
    "    df.to_csv(save_dir)"
   ]
  },
  {
   "cell_type": "code",
   "execution_count": null,
   "metadata": {},
   "outputs": [],
   "source": []
  }
 ]
}