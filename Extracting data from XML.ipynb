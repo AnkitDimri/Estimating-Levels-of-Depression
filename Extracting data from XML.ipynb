{
 "cells": [
  {
   "cell_type": "code",
   "execution_count": 11,
   "metadata": {},
   "outputs": [],
   "source": [
    "import re\n",
    "from bs4 import BeautifulSoup as bs\n",
    "import pandas as pd"
   ]
  },
  {
   "cell_type": "code",
   "execution_count": 13,
   "metadata": {
    "tags": []
   },
   "outputs": [],
   "source": [
    "basepath = \"/home/sujeet/Desktop/Major Project/Estimating-Levels-of-Depression/2020 data/\"\n",
    "for entry in os.listdir(basepath):\n",
    "    content = []\n",
    "    with open(basepath + entry,'r') as file: \n",
    "        content = file.readlines()\n",
    "        # # Combine the lines in the list into a string\n",
    "        content = \"\".join(content)\n",
    "        bs_content = bs(content, \"html\")\n",
    "    ncontent = []\n",
    "    for i in bs_content.find_all(\"text\"):\n",
    "        ncontent.append(str(i))\n",
    "    ss = lambda ss : ss[6:-7]\n",
    "    user = list(map(ss,ncontent[:]))\n",
    "    df = pd.DataFrame()\n",
    "    df['post'] = pd.Series(user)\n",
    "    filename = entry[:-3] + 'csv'\n",
    "    save_dir = \"/home/sujeet/Desktop/Major Project/Estimating-Levels-of-Depression/csv_data/\" + filename\n",
    "    df.to_csv(save_dir)\n",
    "    \n"
   ]
  },
  {
   "cell_type": "code",
   "execution_count": null,
   "metadata": {},
   "outputs": [],
   "source": [
    "# content = []\n",
    "# with open('/home/samroadie/Desktop/ace_pytorch/eRISK2021_T3_training_data/training BDI/2020 data/subject169.xml', 'r') as file: \n",
    "#     content = file.readlines()\n",
    "#     # Combine the lines in the list into a string\n",
    "#     content = \"\".join(content)\n",
    "#     bs_content = bs(content, \"html\")\n"
   ]
  },
  {
   "cell_type": "code",
   "execution_count": null,
   "metadata": {},
   "outputs": [],
   "source": [
    "# bs_content"
   ]
  },
  {
   "cell_type": "code",
   "execution_count": null,
   "metadata": {},
   "outputs": [],
   "source": [
    "# ncontent = []\n",
    "# for i in bs_content.find_all(\"text\"):\n",
    "#     ncontent.append(str(i))\n",
    "    \n"
   ]
  },
  {
   "cell_type": "code",
   "execution_count": null,
   "metadata": {},
   "outputs": [],
   "source": [
    "# ss = lambda ss : ss[6:-7]"
   ]
  },
  {
   "cell_type": "code",
   "execution_count": null,
   "metadata": {},
   "outputs": [],
   "source": [
    "# user = list(map(ss,ncontent[:]))"
   ]
  },
  {
   "cell_type": "code",
   "execution_count": null,
   "metadata": {},
   "outputs": [],
   "source": [
    "# df = pd.DataFrame()\n",
    "# df['post'] = pd.Series(user)"
   ]
  },
  {
   "cell_type": "code",
   "execution_count": null,
   "metadata": {},
   "outputs": [],
   "source": [
    "\n",
    "  "
   ]
  }
 ],
 "metadata": {
  "kernelspec": {
   "display_name": "Python 3",
   "language": "python",
   "name": "python3"
  },
  "language_info": {
   "codemirror_mode": {
    "name": "ipython",
    "version": 3
   },
   "file_extension": ".py",
   "mimetype": "text/x-python",
   "name": "python",
   "nbconvert_exporter": "python",
   "pygments_lexer": "ipython3",
   "version": "3.9.1-final"
  }
 },
 "nbformat": 4,
 "nbformat_minor": 4
}